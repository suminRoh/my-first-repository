{
  "nbformat": 4,
  "nbformat_minor": 0,
  "metadata": {
    "colab": {
      "name": "test.ipynb",
      "provenance": [],
      "authorship_tag": "ABX9TyPDaoyl5V48GYcEyT2WcpWc",
      "include_colab_link": true
    },
    "kernelspec": {
      "name": "python3",
      "display_name": "Python 3"
    }
  },
  "cells": [
    {
      "cell_type": "markdown",
      "metadata": {
        "id": "view-in-github",
        "colab_type": "text"
      },
      "source": [
        "<a href=\"https://colab.research.google.com/github/suminRoh/my-first-repository/blob/master/test.ipynb\" target=\"_parent\"><img src=\"https://colab.research.google.com/assets/colab-badge.svg\" alt=\"Open In Colab\"/></a>"
      ]
    },
    {
      "cell_type": "code",
      "metadata": {
        "id": "AEE7y3bcOYar"
      },
      "source": [
        ""
      ],
      "execution_count": null,
      "outputs": []
    },
    {
      "cell_type": "code",
      "metadata": {
        "colab": {
          "base_uri": "https://localhost:8080/"
        },
        "id": "va2HfhxeP-0e",
        "outputId": "c237395b-c502-4b18-aedb-f29f59b58c6c"
      },
      "source": [
        "from google.colab import drive\n",
        "drive.mount('/content/drive')"
      ],
      "execution_count": 1,
      "outputs": [
        {
          "output_type": "stream",
          "text": [
            "Mounted at /content/drive\n"
          ],
          "name": "stdout"
        }
      ]
    },
    {
      "cell_type": "code",
      "metadata": {
        "colab": {
          "base_uri": "https://localhost:8080/"
        },
        "id": "MQliGsqbPm3X",
        "outputId": "3df8844b-c623-4110-aeec-b767298d3d6d"
      },
      "source": [
        "!git clone https://github.com/suminRoh/suminRoh.github.io.git\r\n"
      ],
      "execution_count": 2,
      "outputs": [
        {
          "output_type": "stream",
          "text": [
            "Cloning into 'suminRoh.github.io'...\n",
            "remote: Enumerating objects: 189, done.\u001b[K\n",
            "remote: Counting objects: 100% (189/189), done.\u001b[K\n",
            "remote: Compressing objects: 100% (134/134), done.\u001b[K\n",
            "remote: Total 3373 (delta 114), reused 129 (delta 55), pack-reused 3184\u001b[K\n",
            "Receiving objects: 100% (3373/3373), 114.23 MiB | 33.47 MiB/s, done.\n",
            "Resolving deltas: 100% (1382/1382), done.\n"
          ],
          "name": "stdout"
        }
      ]
    },
    {
      "cell_type": "code",
      "metadata": {
        "colab": {
          "base_uri": "https://localhost:8080/"
        },
        "id": "V6rSCcI6R_Qf",
        "outputId": "9b951750-071a-45be-96fe-1adf947cbf92"
      },
      "source": [
        "!git clone https://github.com/suminRoh/my-first-repository.git\r\n"
      ],
      "execution_count": 3,
      "outputs": [
        {
          "output_type": "stream",
          "text": [
            "Cloning into 'my-first-repository'...\n",
            "remote: Enumerating objects: 3829, done.\u001b[K\n",
            "remote: Counting objects: 100% (3829/3829), done.\u001b[K\n",
            "remote: Compressing objects: 100% (3783/3783), done.\u001b[K\n",
            "remote: Total 3829 (delta 5), reused 3825 (delta 4), pack-reused 0\u001b[K\n",
            "Receiving objects: 100% (3829/3829), 37.38 MiB | 29.51 MiB/s, done.\n",
            "Resolving deltas: 100% (5/5), done.\n"
          ],
          "name": "stdout"
        }
      ]
    }
  ]
}